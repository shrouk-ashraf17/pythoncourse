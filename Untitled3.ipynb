{
  "nbformat": 4,
  "nbformat_minor": 0,
  "metadata": {
    "colab": {
      "provenance": [],
      "collapsed_sections": []
    },
    "kernelspec": {
      "name": "python3",
      "display_name": "Python 3"
    },
    "language_info": {
      "name": "python"
    }
  },
  "cells": [
    {
      "cell_type": "code",
      "execution_count": 37,
      "metadata": {
        "colab": {
          "base_uri": "https://localhost:8080/"
        },
        "id": "WFYd-8MRAhei",
        "outputId": "a22c63fd-2ef3-42fc-8bf6-4beee09511c0"
      },
      "outputs": [
        {
          "output_type": "stream",
          "name": "stdout",
          "text": [
            "36\n"
          ]
        }
      ],
      "source": [
        "x=[2, 3, 6]\n",
        "sum = 1\n",
        "for i in x :\n",
        "  sum*=i\n",
        "print(sum)\n"
      ]
    },
    {
      "cell_type": "code",
      "source": [
        "x=[(2, 5), (1, 2), (4, 4), (2, 3), (2, 1)]\n",
        "for j in range (len(x)-1):\n",
        "  for i in range (len(x)-1):\n",
        "    if x[i][-1] > x[i+1][-1]:\n",
        "     x[i],x[i+1] = x[i+1],x[i]\n",
        "print(x)    "
      ],
      "metadata": {
        "colab": {
          "base_uri": "https://localhost:8080/"
        },
        "id": "eWG27raRBCXb",
        "outputId": "6008f0c0-4c66-4217-e4a8-8b13ce895c69"
      },
      "execution_count": 21,
      "outputs": [
        {
          "output_type": "stream",
          "name": "stdout",
          "text": [
            "[(2, 1), (1, 2), (2, 3), (4, 4), (2, 5)]\n"
          ]
        }
      ]
    },
    {
      "cell_type": "code",
      "source": [
        "d1 = {'a': 100, 'b': 200, 'c':300}\n",
        "\n",
        "d2 = {'a': 300, 'b': 200, 'd':400}\n",
        "\n",
        "d3 = dict(d1)\n",
        "d3.update(d2)\n",
        "\n",
        "for i,l in d1.items():\n",
        "  for k,j in d2.items():\n",
        "    if i==k:\n",
        "      d3[i] = l + j\n",
        "print (d3)\n",
        "\n"
      ],
      "metadata": {
        "colab": {
          "base_uri": "https://localhost:8080/"
        },
        "id": "NCRgqXowY5LL",
        "outputId": "15e8ad1e-c9cf-464f-b752-07f2e08c4241"
      },
      "execution_count": 59,
      "outputs": [
        {
          "output_type": "stream",
          "name": "stdout",
          "text": [
            "{'a': 400, 'b': 400, 'c': 300, 'd': 400}\n"
          ]
        }
      ]
    },
    {
      "cell_type": "code",
      "source": [
        "n= int(input())\n",
        "d={}\n",
        "for i in range (1,n+1):\n",
        "  d[i]= i*i\n",
        "print(d)"
      ],
      "metadata": {
        "colab": {
          "base_uri": "https://localhost:8080/"
        },
        "id": "6aCXFUlbQ9RR",
        "outputId": "b12edd3b-410b-4dbb-da26-abe61be0dc65"
      },
      "execution_count": 53,
      "outputs": [
        {
          "output_type": "stream",
          "name": "stdout",
          "text": [
            "8\n",
            "{1: 1, 2: 4, 3: 9, 4: 16, 5: 25, 6: 36, 7: 49, 8: 64}\n"
          ]
        }
      ]
    },
    {
      "cell_type": "code",
      "source": [],
      "metadata": {
        "id": "ICAWAxcrYpaS"
      },
      "execution_count": null,
      "outputs": []
    },
    {
      "cell_type": "code",
      "source": [
        "x=[('item1', '12.20'), ('item2', '15.10'), ('item3', '24.5')]\n",
        "for j in range (len(x)-1):\n",
        "  for i in range (len(x)-1):\n",
        "   if x[i][-1] < x[i+1][-1]:        #if float x[i][-1] < float x\n",
        "      x[i],x[i+1] = x[i+1],x[i]\n",
        "print(x)    \n"
      ],
      "metadata": {
        "colab": {
          "base_uri": "https://localhost:8080/"
        },
        "id": "v6-q6YPsNfTi",
        "outputId": "9cc10f6e-17cc-4423-93d2-ac2f6c9a38df"
      },
      "execution_count": 31,
      "outputs": [
        {
          "output_type": "stream",
          "name": "stdout",
          "text": [
            "[('item3', '24.5'), ('item2', '15.10'), ('item1', '12.20')]\n"
          ]
        }
      ]
    }
  ]
}