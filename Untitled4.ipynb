{
  "nbformat": 4,
  "nbformat_minor": 0,
  "metadata": {
    "colab": {
      "provenance": [],
      "collapsed_sections": []
    },
    "kernelspec": {
      "name": "python3",
      "display_name": "Python 3"
    },
    "language_info": {
      "name": "python"
    }
  },
  "cells": [
    {
      "cell_type": "code",
      "execution_count": null,
      "metadata": {
        "id": "Ns9WjDkZnpYf",
        "colab": {
          "base_uri": "https://localhost:8080/"
        },
        "outputId": "c28312c2-bc38-452b-ad7f-c3c76509820d"
      },
      "outputs": [
        {
          "output_type": "execute_result",
          "data": {
            "text/plain": [
              "35"
            ]
          },
          "metadata": {},
          "execution_count": 2
        }
      ],
      "source": [
        "def maxx(a,b,c):\n",
        "  if a > b and a > c:\n",
        "    return a\n",
        "  elif b > a and b > c:\n",
        "    return b\n",
        "  else:\n",
        "    return c\n",
        "maxx(20,35,19)"
      ]
    },
    {
      "cell_type": "code",
      "source": [
        "def calculation (a,b):\n",
        "  return a+b , a-b\n",
        "calculation (40,10)"
      ],
      "metadata": {
        "id": "d0f_p7InyNEa",
        "colab": {
          "base_uri": "https://localhost:8080/"
        },
        "outputId": "3accdd7d-8e87-4b61-e848-1ff3997ef37f"
      },
      "execution_count": null,
      "outputs": [
        {
          "output_type": "execute_result",
          "data": {
            "text/plain": [
              "(50, 30)"
            ]
          },
          "metadata": {},
          "execution_count": 3
        }
      ]
    },
    {
      "cell_type": "code",
      "source": [
        "\n",
        "def summ(l):\n",
        "  counter =0\n",
        "  for i in l:\n",
        "    counter += i\n",
        "  return(counter)\n",
        "\n",
        "\n",
        "def multi(l):\n",
        "  counter = 1\n",
        "  for i in l:\n",
        "    counter *= i\n",
        "  return(counter)\n",
        "\n",
        "g = [5,10,94,8,17,29,22]\n",
        "\n",
        "even=[]\n",
        "odd=[]\n",
        "\n",
        "for i in range (len(g)):\n",
        "  if i % 2 ==0:\n",
        "   even.append(g[i])\n",
        "  else:\n",
        "   odd.append(g[i])\n",
        "print(summ(even))\n",
        "print(multi(odd))   "
      ],
      "metadata": {
        "id": "vkcHLk1nyp9F",
        "colab": {
          "base_uri": "https://localhost:8080/"
        },
        "outputId": "82483ba7-157c-4ebe-96ae-b6e3fc563c2f"
      },
      "execution_count": null,
      "outputs": [
        {
          "output_type": "stream",
          "name": "stdout",
          "text": [
            "138\n",
            "2320\n"
          ]
        }
      ]
    },
    {
      "cell_type": "code",
      "source": [
        "x=\"green-red-yellow-black-white\"\n",
        "y= x.split(\"-\")\n",
        "y.sort()\n",
        "x=\"-\".join(y)\n",
        "print(x)\n"
      ],
      "metadata": {
        "id": "jQg5TYqC2GV2",
        "colab": {
          "base_uri": "https://localhost:8080/"
        },
        "outputId": "50d9fe5a-1346-49e1-8cb0-b2f542bc2e4b"
      },
      "execution_count": null,
      "outputs": [
        {
          "output_type": "stream",
          "name": "stdout",
          "text": [
            "black-green-red-white-yellow\n"
          ]
        }
      ]
    },
    {
      "cell_type": "code",
      "source": [],
      "metadata": {
        "id": "PAPKq1572GYn"
      },
      "execution_count": null,
      "outputs": []
    }
  ]
}