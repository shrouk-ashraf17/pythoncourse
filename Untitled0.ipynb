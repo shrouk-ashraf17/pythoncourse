{
  "nbformat": 4,
  "nbformat_minor": 0,
  "metadata": {
    "colab": {
      "name": "Untitled0.ipynb",
      "provenance": []
    },
    "kernelspec": {
      "name": "python3",
      "display_name": "Python 3"
    },
    "language_info": {
      "name": "python"
    }
  },
  "cells": [
    {
      "cell_type": "code",
      "execution_count": 1,
      "metadata": {
        "colab": {
          "base_uri": "https://localhost:8080/"
        },
        "id": "Qsx3tZu5c2Qd",
        "outputId": "d1287436-4557-4903-8d35-3d73b800527a"
      },
      "outputs": [
        {
          "output_type": "stream",
          "name": "stdout",
          "text": [
            "Welcome to Python world! Let's start coding\n"
          ]
        }
      ],
      "source": [
        "print (\"Welcome to Python world! Let's start coding\")\n"
      ]
    },
    {
      "cell_type": "code",
      "source": [],
      "metadata": {
        "id": "lojLNQIzddBU"
      },
      "execution_count": null,
      "outputs": []
    }
  ]
}